{
 "cells": [
  {
   "cell_type": "code",
   "execution_count": 2,
   "metadata": {
    "collapsed": false
   },
   "outputs": [],
   "source": [
    "import json\n",
    "import urllib.request as ulr\n",
    "import pandas as pd\n",
    "\n",
    "busnum = 'B49'\n",
    "userkey = '0668523f-40d2-4449-a006-332eaa2f8523'\n",
    "\n",
    "url = 'http://api.prod.obanyc.com/api/siri/vehicle-monitoring.json?key='+userkey+'&LineRef=MTA%20NYCT_'+busnum"
   ]
  },
  {
   "cell_type": "code",
   "execution_count": 3,
   "metadata": {
    "collapsed": true
   },
   "outputs": [],
   "source": [
    "response = ulr.urlopen(url)\n",
    "charset = response.info().get_content_charset()\n",
    "data = response.read().decode(charset)\n",
    "data = json.loads(data)"
   ]
  },
  {
   "cell_type": "code",
   "execution_count": 4,
   "metadata": {
    "collapsed": false
   },
   "outputs": [
    {
     "data": {
      "text/plain": [
       "',Latitude,Longitude,Stop Name,Stop Status\\n0,40.680659,-73.955574,FRANKLIN AV/LEFFERTS PL,at stop\\n1,40.652034,-73.955981,BEDFORD AV/LINDEN BL,at stop\\n2,40.630224,-73.957243,OCEAN AV/AV H,at stop\\n3,40.604267,-73.952338,OCEAN AV/AV S,at stop\\n4,40.680754,-73.955592,FRANKLIN AV/LEFFERTS PL,at stop\\n5,40.588516,-73.949347,OCEAN AV/AV Z,at stop\\n6,40.584005,-73.950701,SHEEPSHEAD BAY RD/EMMONS AV,at stop\\n7,40.638561,-73.951171,ROGERS AV/FOSTER AV,at stop\\n8,40.588072,-73.953385,E 16 ST/SHEEPSHEAD BAY RD,approaching\\n9,40.598119,-73.951167,OCEAN AV/AV U,< 1 stop away\\n10,40.670294,-73.955208,BEDFORD AV/PRESIDENT ST,< 1 stop away\\n'"
      ]
     },
     "execution_count": 4,
     "metadata": {},
     "output_type": "execute_result"
    }
   ],
   "source": [
    "vehicles = data['Siri']['ServiceDelivery']['VehicleMonitoringDelivery'][0]['VehicleActivity']\n",
    "buscount = (len(vehicles))\n",
    "df = pd.DataFrame([], columns=list(['Latitude','Longitude','Stop Name','Stop Status']))\n",
    "for x in range(buscount):\n",
    "    latitude = data['Siri']['ServiceDelivery']['VehicleMonitoringDelivery'][0]['VehicleActivity'][x]['MonitoredVehicleJourney']['VehicleLocation']['Latitude']\n",
    "    longitude = data['Siri']['ServiceDelivery']['VehicleMonitoringDelivery'][0]['VehicleActivity'][x]['MonitoredVehicleJourney']['VehicleLocation']['Longitude']\n",
    "    stopname = data['Siri']['ServiceDelivery']['VehicleMonitoringDelivery'][0]['VehicleActivity'][x]['MonitoredVehicleJourney']['MonitoredCall']['StopPointName']\n",
    "    if not stopname:\n",
    "        stopname = 'N/A'\n",
    "    stopstatus = data['Siri']['ServiceDelivery']['VehicleMonitoringDelivery'][0]['VehicleActivity'][x]['MonitoredVehicleJourney']['MonitoredCall']['Extensions']['Distances']['PresentableDistance']\n",
    "    if not stopstatus:\n",
    "        stopstatus = 'N/A'\n",
    "    df.loc[len(df)] = [latitude, longitude, stopname, stopstatus]"
   ]
  },
  {
   "cell_type": "code",
   "execution_count": 11,
   "metadata": {
    "collapsed": false
   },
   "outputs": [
    {
     "name": "stdout",
     "output_type": "stream",
     "text": [
      "{}\n",
      "N/A\n"
     ]
    }
   ],
   "source": [
    "stopname = data['Siri']['ServiceDelivery']['VehicleMonitoringDelivery'][0]['VehicleActivity'][0]['MonitoredVehicleJourney']['OnwardCalls']\n",
    "print (stopname)\n",
    "if not stopname:\n",
    "    stopname = 'N/A'\n",
    "print (stopname)"
   ]
  },
  {
   "cell_type": "code",
   "execution_count": null,
   "metadata": {
    "collapsed": true
   },
   "outputs": [],
   "source": []
  }
 ],
 "metadata": {
  "kernelspec": {
   "display_name": "Python 3",
   "language": "python",
   "name": "python3"
  },
  "language_info": {
   "codemirror_mode": {
    "name": "ipython",
    "version": 3
   },
   "file_extension": ".py",
   "mimetype": "text/x-python",
   "name": "python",
   "nbconvert_exporter": "python",
   "pygments_lexer": "ipython3",
   "version": "3.5.2"
  }
 },
 "nbformat": 4,
 "nbformat_minor": 1
}

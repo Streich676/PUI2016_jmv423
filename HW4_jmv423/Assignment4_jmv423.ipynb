{
 "cells": [
  {
   "cell_type": "code",
   "execution_count": 31,
   "metadata": {
    "collapsed": false
   },
   "outputs": [],
   "source": [
    "import matplotlib.pylab as pl\n",
    "import pandas as pd\n",
    "import numpy as np\n",
    "import os\n",
    "%matplotlib inline\n",
    "\n",
    "#dfapril = pd.read_csv(\"/Users/JordanVani/Documents/NYU/PUI/PUI2016_jmv423/HW4_jmv423/201604-citibike-tripdata.csv\")\n",
    "#dfmay = pd.read_csv(\"/Users/JordanVani/Documents/NYU/PUI/PUI2016_jmv423/HW4_jmv423/201605-citibike-tripdata.csv\")\n",
    "dfjune = pd.read_csv(\"/Users/JordanVani/Documents/NYU/PUI/PUI2016_jmv423/HW4_jmv423/201606-citibike-tripdata.csv\")\n",
    "frames = [dfjune]\n",
    "df = pd.concat(frames)"
   ]
  },
  {
   "cell_type": "markdown",
   "metadata": {},
   "source": [
    "test if the distribution of ages is the same for \n",
    "\n",
    "1) male and female riders\n",
    "\n",
    "2) day and night riders\n",
    "\n",
    "use 3 tests: KS, Pearson's, Spearman's. \n",
    "\n",
    "For the KS do the test with the entire dataset and with a subset 200 times smaller\n",
    "\n",
    "Choose a significant threshold for the whole eercise. \n",
    "\n",
    "For each test phrase the Null Hypothesis in words.\n",
    "\n",
    "Describe the return of the scipy function you use in each case.\n",
    "\n",
    "State the result in terms of rejection of the Null."
   ]
  },
  {
   "cell_type": "markdown",
   "metadata": {},
   "source": [
    "# Distribution of Age for Male & Female Riders\n",
    "#### Question: Are the distribution of ages for male and female citibike riders the same?"
   ]
  },
  {
   "cell_type": "code",
   "execution_count": 32,
   "metadata": {
    "collapsed": false
   },
   "outputs": [
    {
     "data": {
      "text/html": [
       "<div style=\"max-height:1000px;max-width:1500px;overflow:auto;\">\n",
       "<table border=\"1\" class=\"dataframe\">\n",
       "  <thead>\n",
       "    <tr style=\"text-align: right;\">\n",
       "      <th></th>\n",
       "      <th>starttime</th>\n",
       "      <th>gender</th>\n",
       "      <th>birthyear</th>\n",
       "      <th>age</th>\n",
       "      <th>agem</th>\n",
       "      <th>agef</th>\n",
       "    </tr>\n",
       "  </thead>\n",
       "  <tbody>\n",
       "    <tr>\n",
       "      <th>0</th>\n",
       "      <td> 6/1/2016 00:00:18</td>\n",
       "      <td> 1</td>\n",
       "      <td> 1972</td>\n",
       "      <td> 44</td>\n",
       "      <td> 44.0</td>\n",
       "      <td> NaN</td>\n",
       "    </tr>\n",
       "    <tr>\n",
       "      <th>1</th>\n",
       "      <td> 6/1/2016 00:00:20</td>\n",
       "      <td> 1</td>\n",
       "      <td> 1967</td>\n",
       "      <td> 49</td>\n",
       "      <td> 49.0</td>\n",
       "      <td> NaN</td>\n",
       "    </tr>\n",
       "    <tr>\n",
       "      <th>2</th>\n",
       "      <td> 6/1/2016 00:00:21</td>\n",
       "      <td> 1</td>\n",
       "      <td> 1989</td>\n",
       "      <td> 27</td>\n",
       "      <td> 27.0</td>\n",
       "      <td> NaN</td>\n",
       "    </tr>\n",
       "    <tr>\n",
       "      <th>3</th>\n",
       "      <td> 6/1/2016 00:00:28</td>\n",
       "      <td> 1</td>\n",
       "      <td> 1991</td>\n",
       "      <td> 25</td>\n",
       "      <td> 25.0</td>\n",
       "      <td> NaN</td>\n",
       "    </tr>\n",
       "    <tr>\n",
       "      <th>4</th>\n",
       "      <td> 6/1/2016 00:00:53</td>\n",
       "      <td> 1</td>\n",
       "      <td> 1989</td>\n",
       "      <td> 27</td>\n",
       "      <td> 27.0</td>\n",
       "      <td> NaN</td>\n",
       "    </tr>\n",
       "  </tbody>\n",
       "</table>\n",
       "</div>"
      ],
      "text/plain": [
       "           starttime  gender  birthyear  age  agem agef\n",
       "0  6/1/2016 00:00:18       1       1972   44  44.0  NaN\n",
       "1  6/1/2016 00:00:20       1       1967   49  49.0  NaN\n",
       "2  6/1/2016 00:00:21       1       1989   27  27.0  NaN\n",
       "3  6/1/2016 00:00:28       1       1991   25  25.0  NaN\n",
       "4  6/1/2016 00:00:53       1       1989   27  27.0  NaN"
      ]
     },
     "execution_count": 32,
     "metadata": {},
     "output_type": "execute_result"
    }
   ],
   "source": [
    "df1 = df[['starttime', 'gender', 'birth year']].copy()\n",
    "df1 = df1.rename(columns = {'birth year' : 'birthyear'})\n",
    "df1['age'] = 2016 - df1.birthyear\n",
    "df1['agem'] = np.where(df['gender'] == 1, df1['age'], 'NaN')\n",
    "df1['agef'] = np.where(df['gender'] == 2, df1['age'], 'NaN')\n",
    "df1.dropna(0, 'any', inplace = True)\n",
    "df1.head()"
   ]
  },
  {
   "cell_type": "code",
   "execution_count": null,
   "metadata": {
    "collapsed": false
   },
   "outputs": [],
   "source": [
    "#pd.cut(male['age'], bins)\n",
    "#male = df1.query('gender == 1')\n",
    "#female = df1.query('gender == 2')\n",
    "agebins = np.arange(10, 99, 5)\n",
    "\n",
    "fig, (ax_1, ax_2, ax_3) = pl.subplots(nrows=1, ncols=3, figsize=(18,6))\n",
    "pl.tight_layout(pad=5)\n",
    "ax_1.hist(df1.agem, bins = agebins)\n",
    "ax_2.hist(df1.agef, bins = agebins)"
   ]
  },
  {
   "cell_type": "markdown",
   "metadata": {},
   "source": [
    "### KS Test\n",
    "Do the test with the entire dataset and with a subset 200x smaller.\n",
    "\n",
    "$H_o$: There is no difference between the age distributions of male and female citibike riders (significance at p=0.05).\n",
    "\n",
    "$H_a$: There is a difference between the age distributions of male and female citibike riders (significance at p=0.05)."
   ]
  },
  {
   "cell_type": "code",
   "execution_count": null,
   "metadata": {
    "collapsed": true
   },
   "outputs": [],
   "source": []
  },
  {
   "cell_type": "markdown",
   "metadata": {},
   "source": [
    "### Pearson's Test\n",
    "\n",
    "$H_o$: There is no difference between the age distributions of male and female citibike riders (significance at p=0.05).\n",
    "\n",
    "$H_a$: There is a difference between the age distributions of male and female citibike riders (significance at p=0.05)."
   ]
  },
  {
   "cell_type": "code",
   "execution_count": null,
   "metadata": {
    "collapsed": true
   },
   "outputs": [],
   "source": []
  },
  {
   "cell_type": "markdown",
   "metadata": {},
   "source": [
    "### Spearman's Test\n",
    "\n",
    "$H_o$: There is no difference between the age distributions of male and female citibike riders (significance at p=0.05).\n",
    "\n",
    "$H_a$: There is a difference between the age distributions of male and female citibike riders (significance at p=0.05)."
   ]
  },
  {
   "cell_type": "code",
   "execution_count": null,
   "metadata": {
    "collapsed": true
   },
   "outputs": [],
   "source": []
  }
 ],
 "metadata": {
  "kernelspec": {
   "display_name": "Python 2",
   "language": "python",
   "name": "python2"
  },
  "language_info": {
   "codemirror_mode": {
    "name": "ipython",
    "version": 2
   },
   "file_extension": ".py",
   "mimetype": "text/x-python",
   "name": "python",
   "nbconvert_exporter": "python",
   "pygments_lexer": "ipython2",
   "version": "2.7.12"
  }
 },
 "nbformat": 4,
 "nbformat_minor": 1
}

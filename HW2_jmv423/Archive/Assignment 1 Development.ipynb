{
 "cells": [
  {
   "cell_type": "code",
   "execution_count": 72,
   "metadata": {
    "collapsed": false
   },
   "outputs": [],
   "source": [
    "import json\n",
    "import urllib.request as ulr\n",
    "\n",
    "busnum = 'B49'\n",
    "userkey = '0668523f-40d2-4449-a006-332eaa2f8523'\n",
    "\n",
    "url = 'http://api.prod.obanyc.com/api/siri/vehicle-monitoring.json?key='+userkey+'&LineRef=MTA%20NYCT_'+busnum"
   ]
  },
  {
   "cell_type": "code",
   "execution_count": 73,
   "metadata": {
    "collapsed": false
   },
   "outputs": [],
   "source": [
    "response = ulr.urlopen(url)\n",
    "charset = response.info().get_content_charset()\n",
    "data = response.read().decode(charset)\n",
    "data = json.loads(data)"
   ]
  },
  {
   "cell_type": "code",
   "execution_count": 75,
   "metadata": {
    "collapsed": false
   },
   "outputs": [
    {
     "name": "stdout",
     "output_type": "stream",
     "text": [
      "Bus Line : B49\n",
      "Number of Active Buses : 10\n",
      "Bus 1 is at latitude 40.630818 and longitude -73.957356\n",
      "Bus 2 is at latitude 40.637065 and longitude -73.956861\n",
      "Bus 3 is at latitude 40.606117 and longitude -73.952682\n",
      "Bus 4 is at latitude 40.604231 and longitude -73.952332\n",
      "Bus 5 is at latitude 40.654835 and longitude -73.956279\n",
      "Bus 6 is at latitude 40.671695 and longitude -73.953113\n",
      "Bus 7 is at latitude 40.67341 and longitude -73.952952\n",
      "Bus 8 is at latitude 40.588072 and longitude -73.953385\n",
      "Bus 9 is at latitude 40.679892 and longitude -73.955425\n",
      "Bus 10 is at latitude 40.585612 and longitude -73.952955\n"
     ]
    }
   ],
   "source": [
    "vehicles = data['Siri']['ServiceDelivery']['VehicleMonitoringDelivery'][0]['VehicleActivity']\n",
    "buscount = (len(vehicles))\n",
    "print (\"Bus Line : {}\".format(busnum))\n",
    "print (\"Number of Active Buses : {}\".format(buscount))\n",
    "for x in range(buscount):\n",
    "    print (\"Bus {} is at latitude {} and longitude {}\".format(x+1, vehicles[x]['MonitoredVehicleJourney']['VehicleLocation']['Latitude'], vehicles[x]['MonitoredVehicleJourney']['VehicleLocation']['Longitude']))"
   ]
  },
  {
   "cell_type": "code",
   "execution_count": null,
   "metadata": {
    "collapsed": true
   },
   "outputs": [],
   "source": []
  }
 ],
 "metadata": {
  "kernelspec": {
   "display_name": "Python 3",
   "language": "python",
   "name": "python3"
  },
  "language_info": {
   "codemirror_mode": {
    "name": "ipython",
    "version": 3
   },
   "file_extension": ".py",
   "mimetype": "text/x-python",
   "name": "python",
   "nbconvert_exporter": "python",
   "pygments_lexer": "ipython3",
   "version": "3.5.2"
  }
 },
 "nbformat": 4,
 "nbformat_minor": 1
}
